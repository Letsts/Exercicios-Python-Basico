{
 "cells": [
  {
   "cell_type": "markdown",
   "id": "e4392336",
   "metadata": {},
   "source": [
    "# Exercícios Python Básico - Letícia Schmidt"
   ]
  },
  {
   "cell_type": "markdown",
   "id": "47605cd7",
   "metadata": {},
   "source": [
    "Função que retorna o maior valor entre a e b:"
   ]
  },
  {
   "cell_type": "code",
   "execution_count": 1,
   "id": "ad26962b",
   "metadata": {},
   "outputs": [
    {
     "name": "stdout",
     "output_type": "stream",
     "text": [
      "Primeiro Numero: 3200\n",
      "Segundo Numero: 87\n",
      "Maior Numero: 3200\n"
     ]
    }
   ],
   "source": [
    "def maior(a,b):\n",
    "    if a > b:\n",
    "        return a\n",
    "    else:\n",
    "        return b\n",
    "\n",
    "numero1 = int(input('Primeiro Numero: '))\n",
    "numero2 = int(input('Segundo Numero: '))\n",
    "\n",
    "print(\"Maior Numero:\", maior(numero1,numero2))"
   ]
  },
  {
   "cell_type": "markdown",
   "id": "4981d27c",
   "metadata": {},
   "source": [
    "Função que retorna o somatório dos valores passados pela lista, além de somar neste resultado o valor de x (variável opcional):"
   ]
  },
  {
   "cell_type": "code",
   "execution_count": 3,
   "id": "22ba78dc",
   "metadata": {},
   "outputs": [
    {
     "name": "stdout",
     "output_type": "stream",
     "text": [
      "Digite o valor de x: 1\n",
      "Digite os numeros da lista, caso finalizado digite 0: 4\n",
      "Digite os numeros da lista, caso finalizado digite 0: 3\n",
      "Digite os numeros da lista, caso finalizado digite 0: 2\n",
      "Digite os numeros da lista, caso finalizado digite 0: 0\n",
      "Soma: 10\n"
     ]
    }
   ],
   "source": [
    "valorX = int(input('Digite o valor de x: '))\n",
    "listaVazia = []\n",
    "num = 1\n",
    "while num != 0:\n",
    "    num = int(input('Digite os numeros da lista, caso finalizado digite 0: '))\n",
    "    listaVazia.append(num)\n",
    "\n",
    "def soma(lista, x = 0):\n",
    "    total = 0\n",
    "   \n",
    "    tamanhoLista = len(lista)\n",
    "    for i in range(tamanhoLista):\n",
    "        total = total + lista[i]\n",
    "    \n",
    "    total = total + x\n",
    "\n",
    "    return total\n",
    "\n",
    "print(\"Soma:\", soma(listaVazia, valorX))"
   ]
  },
  {
   "cell_type": "markdown",
   "id": "f43d9dab",
   "metadata": {},
   "source": [
    "Função que retorna a média dos valores passados pela lista:"
   ]
  },
  {
   "cell_type": "code",
   "execution_count": 4,
   "id": "ca73177b",
   "metadata": {},
   "outputs": [
    {
     "name": "stdout",
     "output_type": "stream",
     "text": [
      "Digite os numeros da lista, caso finalizado digite 0: 2\n",
      "Digite os numeros da lista, caso finalizado digite 0: 4\n",
      "Digite os numeros da lista, caso finalizado digite 0: 5\n",
      "Digite os numeros da lista, caso finalizado digite 0: 6\n",
      "Digite os numeros da lista, caso finalizado digite 0: 3\n",
      "Digite os numeros da lista, caso finalizado digite 0: 0\n",
      "Media: 4.0\n"
     ]
    }
   ],
   "source": [
    "listaInput = []\n",
    "num = 1\n",
    "while num != 0:\n",
    "    num = int(input('Digite os numeros da lista, caso finalizado digite 0: '))\n",
    "    listaInput.append(num)\n",
    "\n",
    "listaInput.pop()\n",
    "\n",
    "def media(lista):\n",
    "    somaNumeros = 0\n",
    "    \n",
    "    tamanhoLista = len(lista)\n",
    "    for i in range(tamanhoLista):\n",
    "        somaNumeros = somaNumeros + lista[i]\n",
    "    \n",
    "    media = somaNumeros/tamanhoLista\n",
    "\n",
    "    return media\n",
    "\n",
    "print(\"Media:\", media(listaInput))"
   ]
  },
  {
   "cell_type": "markdown",
   "id": "4f2bcb1a",
   "metadata": {},
   "source": [
    "Função que retorna uma lista contendo os valores iguais entre as duas listas passadas como parâmetro:"
   ]
  },
  {
   "cell_type": "code",
   "execution_count": 5,
   "id": "eabc8e5b",
   "metadata": {},
   "outputs": [
    {
     "name": "stdout",
     "output_type": "stream",
     "text": [
      "Digite os elementos da lista1, caso finalizado digite 0: 123\n",
      "Digite os elementos da lista1, caso finalizado digite 0: python\n",
      "Digite os elementos da lista1, caso finalizado digite 0: uva\n",
      "Digite os elementos da lista1, caso finalizado digite 0: 4\n",
      "Digite os elementos da lista1, caso finalizado digite 0: 0\n",
      "Digite os elementos da lista2, caso finalizado digite 0: python\n",
      "Digite os elementos da lista2, caso finalizado digite 0: 4\n",
      "Digite os elementos da lista2, caso finalizado digite 0: 1\n",
      "Digite os elementos da lista2, caso finalizado digite 0: 0\n",
      "Valores iguais: ['python', '4']\n"
     ]
    }
   ],
   "source": [
    "listaInput1 = []\n",
    "listaInput2 = []\n",
    "aux1 = 1\n",
    "aux2 = 1\n",
    "\n",
    "while aux1 != '0':\n",
    "    aux1 = input('Digite os elementos da lista1, caso finalizado digite 0: ')\n",
    "    listaInput1.append(aux1)\n",
    "        \n",
    "listaInput1.pop()\n",
    "\n",
    "while aux2 != '0':\n",
    "    aux2 = input('Digite os elementos da lista2, caso finalizado digite 0: ')\n",
    "    listaInput2.append(aux2)\n",
    "\n",
    "listaInput2.pop()\n",
    "\n",
    "def valores_iguais(lista1, lista2):\n",
    "    listaTotal = []\n",
    "\n",
    "    tamanhoLista1 = len(lista1)\n",
    "    tamanhoLista2 = len(lista2)\n",
    "\n",
    "    for i in range(tamanhoLista1):\n",
    "        lista1[i]\n",
    "        for j in range(tamanhoLista2):\n",
    "            if lista1[i] == lista2[j]:\n",
    "                listaTotal.append(lista1[i])\n",
    "            \n",
    "    return listaTotal\n",
    "    \n",
    "print(\"Valores iguais:\", valores_iguais(listaInput1,listaInput2))"
   ]
  },
  {
   "cell_type": "markdown",
   "id": "eb37ef55",
   "metadata": {},
   "source": [
    "Função que retorna a posição da primeira lista do primeiro valor igual ao da segunda lista.Caso não encontrar, retorna-se None:"
   ]
  },
  {
   "cell_type": "code",
   "execution_count": 6,
   "id": "f3768ca4",
   "metadata": {},
   "outputs": [
    {
     "name": "stdout",
     "output_type": "stream",
     "text": [
      "Digite os elementos da lista1, caso finalizado digite 0: 987\n",
      "Digite os elementos da lista1, caso finalizado digite 0: 2\n",
      "Digite os elementos da lista1, caso finalizado digite 0: terra\n",
      "Digite os elementos da lista1, caso finalizado digite 0: 0\n",
      "Digite os elementos da lista2, caso finalizado digite 0: mar\n",
      "Digite os elementos da lista2, caso finalizado digite 0: 1000\n",
      "Digite os elementos da lista2, caso finalizado digite 0: 2\n",
      "Digite os elementos da lista2, caso finalizado digite 0: ar\n",
      "Digite os elementos da lista2, caso finalizado digite 0: 0\n",
      "Indice do primeiro valor igual: 1\n"
     ]
    }
   ],
   "source": [
    "listaInput1 = []\n",
    "listaInput2 = []\n",
    "aux1 = 1\n",
    "aux2 = 1\n",
    "\n",
    "while aux1 != '0':\n",
    "    aux1 = input('Digite os elementos da lista1, caso finalizado digite 0: ')\n",
    "    listaInput1.append(aux1)\n",
    "        \n",
    "listaInput1.pop()\n",
    "\n",
    "while aux2 != '0':\n",
    "    aux2 = input('Digite os elementos da lista2, caso finalizado digite 0: ')\n",
    "    listaInput2.append(aux2)\n",
    "\n",
    "listaInput2.pop()\n",
    "\n",
    "def indice_prim_valor_igual(lista1, lista2):\n",
    "    tamanhoLista1 = len(lista1)\n",
    "    tamanhoLista2 = len(lista2)\n",
    "\n",
    "    for i in range(tamanhoLista1):\n",
    "        lista1[i]\n",
    "        for j in range(tamanhoLista2):\n",
    "            if lista1[i] == lista2[j]:\n",
    "                return i\n",
    "                break\n",
    "\n",
    "print(\"Indice do primeiro valor igual:\", indice_prim_valor_igual(listaInput1, listaInput2))"
   ]
  },
  {
   "cell_type": "code",
   "execution_count": null,
   "id": "4643840d",
   "metadata": {},
   "outputs": [],
   "source": []
  }
 ],
 "metadata": {
  "kernelspec": {
   "display_name": "Python 3 (ipykernel)",
   "language": "python",
   "name": "python3"
  },
  "language_info": {
   "codemirror_mode": {
    "name": "ipython",
    "version": 3
   },
   "file_extension": ".py",
   "mimetype": "text/x-python",
   "name": "python",
   "nbconvert_exporter": "python",
   "pygments_lexer": "ipython3",
   "version": "3.10.2"
  }
 },
 "nbformat": 4,
 "nbformat_minor": 5
}
