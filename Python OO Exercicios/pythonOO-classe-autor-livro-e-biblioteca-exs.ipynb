{
 "cells": [
  {
   "cell_type": "markdown",
   "id": "65427e35",
   "metadata": {},
   "source": [
    "# Classe Autor, Livro e Biblioteca - Letícia Schmidt"
   ]
  },
  {
   "cell_type": "markdown",
   "id": "6fa0367d",
   "metadata": {},
   "source": [
    "### Classe Autor:\n",
    "\n",
    "Possui 4 atributos (primeiro nome, nome do meio (opcional -> valor default =''), último nome e data de nascimento). Além disso, a classe Autor possuirá um atributo calculado nome_como_citado que retornará o último nome maiúsculo e primeira letra do primeiro nome seguida de um ponto(.) Ex: Letícia Schmidt Santos -> SANTOS L."
   ]
  },
  {
   "cell_type": "code",
   "execution_count": 2,
   "id": "fc0b33c5",
   "metadata": {},
   "outputs": [
    {
     "name": "stdout",
     "output_type": "stream",
     "text": [
      "Nome completo: Leticia Schmidt Santos\n",
      "Data de nascimento: 02/12/2005\n",
      "SANTOS L.\n"
     ]
    }
   ],
   "source": [
    "class Autor():\n",
    "    def __init__(self, data_de_nascimento, prim_nome:str, ultimo_nome:str, nome_do_meio = ''):\n",
    "        self.data_de_nascimento = data_de_nascimento\n",
    "        self.prim_nome = prim_nome\n",
    "        self.nome_do_meio = nome_do_meio\n",
    "        self.ultimo_nome = ultimo_nome\n",
    "\n",
    "    def nome_como_citado(self):\n",
    "        return self.ultimo_nome.upper() + ' ' + self.prim_nome[0] + '.'\n",
    "\n",
    "    def __str__(self):\n",
    "        return \"Nome completo: \" + self.prim_nome + \" \" + self.nome_do_meio + \" \" + self.ultimo_nome + \"\\n\" + \"Data de nascimento: \" + self.data_de_nascimento\n",
    "\n",
    "    def __repr__(self):\n",
    "        return str(self)\n",
    "\n",
    "autor = Autor('02/12/2005', 'Leticia', 'Santos', 'Schmidt')\n",
    "print(autor)\n",
    "print(autor.nome_como_citado())"
   ]
  },
  {
   "cell_type": "markdown",
   "id": "05d4c4b7",
   "metadata": {},
   "source": [
    "### Classe Livro:\n",
    "\n",
    "Possui os atributos titulo(não pode ser vazio), ano e uma lista de autores(vazia [] por padrão)."
   ]
  },
  {
   "cell_type": "code",
   "execution_count": 3,
   "id": "584d7fbf",
   "metadata": {},
   "outputs": [
    {
     "name": "stdout",
     "output_type": "stream",
     "text": [
      "Titulo: Os dois morrem no final, Ano: 2017, Autor(es): Adam Silvera\n"
     ]
    }
   ],
   "source": [
    "class Livro():\n",
    "    def __init__(self, titulo, ano, autores = []):\n",
    "        self.titulo = titulo\n",
    "        self.ano = ano\n",
    "        self.autores = autores\n",
    "    \n",
    "    @property\n",
    "    def titulo(self):\n",
    "        return self._titulo\n",
    "    @titulo.setter\n",
    "    def titulo(self, titulo_string:str):\n",
    "        if titulo_string == \"\":\n",
    "            raise ValueError(\"Erro: titulo vazio\")\n",
    "        self._titulo = titulo_string \n",
    "\n",
    "    def __str__(self):\n",
    "        return f\"Titulo: {self.titulo}, Ano: {self.ano}, Autor(es): {self.autores}\"\n",
    "\n",
    "    def __repr__(self):\n",
    "        return str(self)\n",
    "\n",
    "livro = Livro(\"Os dois morrem no final\", 2017, \"Adam Silvera\")\n",
    "print(livro)"
   ]
  },
  {
   "cell_type": "markdown",
   "id": "c22921c8",
   "metadata": {},
   "source": [
    "### Classe Biblioteca:\n",
    "\n",
    "Possui uma lista de livros. Há também um atributo calculado livros_por_autor que retorna um dicionário no qual cada chave é o nome do autor e o seu valor é a lista de livros deste autor."
   ]
  },
  {
   "cell_type": "code",
   "execution_count": 4,
   "id": "d076fa19",
   "metadata": {},
   "outputs": [
    {
     "name": "stdout",
     "output_type": "stream",
     "text": [
      "{'Holly Black': ['O principe cruel', 'O rei perverso', 'A rainha do nada']}\n"
     ]
    }
   ],
   "source": [
    "class Biblioteca():\n",
    "    \n",
    "    def __init__(self, lista_livros, autor):\n",
    "        self.lista_livros = lista_livros\n",
    "        self.autor = autor\n",
    "\n",
    "    def livros_por_autor(self):\n",
    "        dicionario = {self.autor: self.lista_livros}\n",
    "\n",
    "        return dicionario\n",
    "\n",
    "    def __str__(self):\n",
    "        return f\"{self.autor} {self.lista_livros}\"\n",
    "    \n",
    "    def __repr__(self):\n",
    "        return str(self)\n",
    "\n",
    "autora = \"Holly Black\"\n",
    "livro1 =  Livro(\"O principe cruel\", 2018, autora)\n",
    "livro2 = Livro(\"O rei perverso\", 2019, autora)\n",
    "livro3 = Livro(\"A rainha do nada\", 2020, autora)\n",
    "\n",
    "lista_com_livros = [livro1.titulo, livro2.titulo, livro3.titulo]\n",
    "\n",
    "biblio = Biblioteca(lista_com_livros, autora)\n",
    "print(biblio.livros_por_autor())"
   ]
  }
 ],
 "metadata": {
  "kernelspec": {
   "display_name": "Python 3 (ipykernel)",
   "language": "python",
   "name": "python3"
  },
  "language_info": {
   "codemirror_mode": {
    "name": "ipython",
    "version": 3
   },
   "file_extension": ".py",
   "mimetype": "text/x-python",
   "name": "python",
   "nbconvert_exporter": "python",
   "pygments_lexer": "ipython3",
   "version": "3.10.2"
  }
 },
 "nbformat": 4,
 "nbformat_minor": 5
}
