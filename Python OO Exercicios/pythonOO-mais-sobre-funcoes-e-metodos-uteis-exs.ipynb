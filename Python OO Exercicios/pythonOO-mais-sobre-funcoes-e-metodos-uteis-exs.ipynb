{
 "cells": [
  {
   "cell_type": "markdown",
   "id": "11ce587b",
   "metadata": {},
   "source": [
    "# Exercícios Python OO - Mais sobre funções e Métodos úteis - Letícia Schmidt"
   ]
  },
  {
   "cell_type": "markdown",
   "id": "2cd18704",
   "metadata": {},
   "source": [
    "### Exercício 0.1\n",
    "Implemente a função metodos_vetor que recebe como parâmetro um vetor e retorna o próprio, porém com as seguintes modificações:\n",
    "\n",
    "* Ordene o vetor de forma crescente\n",
    "* Remova o último elemento do vetor (quando já ordenado)\n",
    "* Insira a palavra abacate no início\n",
    "* Retorne o vetor resultante"
   ]
  },
  {
   "cell_type": "code",
   "execution_count": 2,
   "id": "43a1342c",
   "metadata": {},
   "outputs": [
    {
     "name": "stdout",
     "output_type": "stream",
     "text": [
      "['abacate', 'abacaxi', 'maçã', 'pera']\n"
     ]
    }
   ],
   "source": [
    "def metodos_vetor(vetor):\n",
    "    vetor.sort()\n",
    "    vetor.pop()\n",
    "    vetor.insert(0,\"abacate\")\n",
    "\n",
    "    return vetor\n",
    "\n",
    "vetor_str = [\"uva\", \"maçã\", \"abacaxi\", \"pera\"]\n",
    "vetor_final = metodos_vetor(vetor_str)\n",
    "print(vetor_final)"
   ]
  },
  {
   "cell_type": "markdown",
   "id": "b5ec092c",
   "metadata": {},
   "source": [
    "### Exercício 0.2\n",
    "Implemente a função metodos_string que recebe como parâmetro uma string e a retorna com as seguintes modificações:\n",
    "\n",
    "* Deixá-la toda maiúscula\n",
    "* Substituir todas as letras \"o\" por \"a\".\n",
    "* Escreva a string resultante"
   ]
  },
  {
   "cell_type": "code",
   "execution_count": 6,
   "id": "01680838",
   "metadata": {},
   "outputs": [
    {
     "name": "stdout",
     "output_type": "stream",
     "text": [
      "CAMEMARAÇÃA\n",
      "ALHA\n"
     ]
    }
   ],
   "source": [
    "def metodos_string(string):\n",
    "    string = string.upper()\n",
    "    string = string.replace(\"O\",\"A\")\n",
    "\n",
    "    return string\n",
    "\n",
    "\n",
    "str_1 = \"comemoração\"\n",
    "str_2 = \"olho\"\n",
    "\n",
    "str_1_final = metodos_string(str_1)\n",
    "str_2_final = metodos_string(str_2)\n",
    "\n",
    "print(str_1_final)\n",
    "print(str_2_final)"
   ]
  },
  {
   "cell_type": "markdown",
   "id": "ad014de2",
   "metadata": {},
   "source": [
    "### Exercício 1: Conversão de datas\n",
    "Implemente a função converte_data que recebe como parâmetro uma data no formato DD/MM/YYYY (ex: 09/03/2021) e converte para o formato por extenso \"DD de M de YYYY\" (ou seja, 09 de março de 2020) e escreva-a.\n",
    "\n",
    "Adiciona abaixo a função obtem_mes implementada no exercício 0.2 (unidade 2) para te auxiliar"
   ]
  },
  {
   "cell_type": "code",
   "execution_count": 9,
   "id": "f0588f52",
   "metadata": {},
   "outputs": [
    {
     "name": "stdout",
     "output_type": "stream",
     "text": [
      "31 de outubro de 2020\n",
      "22 de janeiro de 2004\n"
     ]
    }
   ],
   "source": [
    "def obtem_mes(num_mes):\n",
    "    if(num_mes < 0 or num_mes > 12):\n",
    "        return (f\"{num_mes} é inválido\")\n",
    "    \n",
    "    meses = [\n",
    "        \"janeiro\",\n",
    "        \"fevereiro\",\n",
    "        \"março\",\n",
    "        \"abril\",\n",
    "        \"maio\",\n",
    "        \"junho\",\n",
    "        \"julho\",\n",
    "        \"agosto\",\n",
    "        \"setembro\",\n",
    "        \"outubro\",\n",
    "        \"novembro\",\n",
    "        \"dezembro\"\n",
    "    ]\n",
    "    \n",
    "    return meses[num_mes - 1]\n",
    "\n",
    "def converte_data(data):\n",
    "    data = data.split(\"/\")\n",
    "\n",
    "    mes = obtem_mes(int(data[1]))\n",
    "    data.pop(1)\n",
    "    data.insert(1, mes)\n",
    "\n",
    "    data = \" de \".join(data)\n",
    "\n",
    "    return data\n",
    "\n",
    "\n",
    "data_1 = \"31/10/2020\"\n",
    "data_2 = \"22/01/2004\"\n",
    "\n",
    "data_1_final = converte_data(data_1)\n",
    "data_2_final = converte_data(data_2)\n",
    "\n",
    "print(data_1_final)\n",
    "print(data_2_final)"
   ]
  },
  {
   "cell_type": "markdown",
   "id": "77844db3",
   "metadata": {},
   "source": [
    "### Exercício 2: Operações em string\n",
    "Nesse exercício você irá implementar duas funções que auxiliarão nos exercícios posteriores:\n",
    "\n",
    "* **elimina_caracteres:** (2 parâmetros) Elimina todas as ocorrências dos caracteres especificados de um texto. Tanto o texto quanto os caracteres a serem removidos são passados como parâmetros"
   ]
  },
  {
   "cell_type": "code",
   "execution_count": 10,
   "id": "9f7b31ee",
   "metadata": {},
   "outputs": [
    {
     "name": "stdout",
     "output_type": "stream",
     "text": [
      "rrnd ntra  tmp\n",
      "trg para tgrs trsts\n"
     ]
    }
   ],
   "source": [
    "def elimina_caracteres(texto, caracteres_para_eliminar):\n",
    "    for caracter_eliminar in caracteres_para_eliminar:\n",
    "        texto = texto.replace(caracter_eliminar, \"\")\n",
    "    return texto\n",
    "\n",
    "\n",
    "resultado_1 = elimina_caracteres('correndo contra o tempo', 'coe')\n",
    "resultado_2 = elimina_caracteres('trigo para tigres tristes', 'ieo') #saída: trg para tgrs trsts\n",
    "\n",
    "print(resultado_1)\n",
    "print(resultado_2)"
   ]
  },
  {
   "cell_type": "markdown",
   "id": "0f94c4f3",
   "metadata": {},
   "source": [
    "* **substitua_caracteres:** (3 parâmetros) Dado um texto, uma string de procura e uma string de reposição, sendo que a string de procura e reposição são de mesmo tamanho. Substitua no texto o caractere na posição i da string de procura pelo caractere na mesma posição i na string de reposição. O texto, os caracteres a serem procurados no texto e os caracteres a serem colocados no lugar serão passados como parâmetro."
   ]
  },
  {
   "cell_type": "code",
   "execution_count": 11,
   "id": "1b52e2a4",
   "metadata": {},
   "outputs": [
    {
     "name": "stdout",
     "output_type": "stream",
     "text": [
      "i sipi nii livi i pu\n",
      "unu cempreu umu urerunhu\n"
     ]
    }
   ],
   "source": [
    "def substitua_caracteres(texto, caracteres_procura, caracteres_substituir_por):\n",
    "    for i in range(len(caracteres_procura)):\n",
    "        caractere_procura = caracteres_procura[i]\n",
    "        caractere_substituir_por = caracteres_substituir_por[i]\n",
    "        texto = texto.replace(caractere_procura, caractere_substituir_por)\n",
    "          \n",
    "    return texto\n",
    "\n",
    "\n",
    "resultado_1 = substitua_caracteres('o sapo nao lava o pe', 'aoe', 'iiu')\n",
    "resultado_2 = substitua_caracteres('ana comprou uma ariranha', 'aoi', 'uee') #saida: unu cempreu umu urerunhu\n",
    "\n",
    "print(resultado_1)\n",
    "print(resultado_2)"
   ]
  },
  {
   "cell_type": "markdown",
   "id": "047ae2d0",
   "metadata": {},
   "source": [
    "### Exercício 3: Palíndromos 👑\n",
    "Segundo a Oxford Languages, palíndromos são textos que se pode ler, indiferentemente, da esquerda para a direita ou vice-versa. Por exemplo: \"arara\", \"asa\", \"mirim\"... E também as frases: \"A cara rajada da jararaca\", \"Socorram-me, subi no ônibus em Marrocos\"...Perceba que, em frases, deve-se ignorar a pontuação, acentuação, espaços e maiúsculas/minúsculas.\n",
    "\n",
    "Implemente a função verifica_palindromo que recebe como parâmetro uma string (texto ou única palavra) e retorna true caso o parâmetro seja um palíndromo ou false, caso contrário.\n",
    "\n",
    "As funções do exercício anterior podem lhe ajudar para processamento de string, para isso chame-as e não implemente-as. Ignore as seguintes pontuações: , - ! ? e o espaço em branco. Além disso, acentos agudos, til e circunflexo em vogais devem ser ignorados"
   ]
  },
  {
   "cell_type": "code",
   "execution_count": 12,
   "id": "21701655",
   "metadata": {},
   "outputs": [
    {
     "name": "stdout",
     "output_type": "stream",
     "text": [
      "True\n",
      "True\n",
      "False\n",
      "True\n"
     ]
    }
   ],
   "source": [
    "def verifica_palindromo(texto:str)->bool:\n",
    "    texto = texto.lower()\n",
    "    texto = elimina_caracteres(texto, \", - ! ?\")\n",
    "    texto = substitua_caracteres(texto, \"áãáà éê í óõô ú ç\", \"aaaa ee i ooo u c\")\n",
    "\n",
    "    for i in range(len(texto)):\n",
    "        for j in range(len(texto)-1,0,-1):\n",
    "            if texto[i] == texto[j]:\n",
    "                return True\n",
    "            else:\n",
    "                return False\n",
    "                \n",
    "\n",
    "frase1 = \"após a sopa\"\n",
    "frase2 = \"Socorram-me, subi no ônibus em Marrocos\"\n",
    "palavra1 = \"azul\"\n",
    "palavra2 =\"arara\"\n",
    "\n",
    "print(verifica_palindromo(frase1))\n",
    "print(verifica_palindromo(frase2))\n",
    "print(verifica_palindromo(palavra1))\n",
    "print(verifica_palindromo(palavra2))"
   ]
  },
  {
   "cell_type": "markdown",
   "id": "764cf672",
   "metadata": {},
   "source": [
    "### Exercício 4: Funções como parâmetro 1\n",
    "Em Python podemos passar as funções como parâmetro -valor de uma variável- e vamos treinar isso (consulte o tutorial no bloco de código anterior).\n",
    "\n",
    "A função da_oi_para é uma função que imprime uma \"interface de dar oi\" para determinada pessoa. A forma de se dar oi é controlado pelo parâmetro função_de_dar_oi, que é uma função que recebe o nome da pessoa e é responsável por retorna uma string com o \"oi\" devidamente escrito em seu idioma. Além desse parâmetro, a função da_oi_para espera o nome da pessoa.\n",
    "\n",
    "Invoque a função da_oi_para em que o parâmetro funcao_de_dar_oi será uma função criada por você. Lembre-se que ela deve obrigatóriamente possuir o parâmetro do nome da pessoa e retorna uma string.\n",
    "\n",
    "Crie, pelo menos, a função de três formas diferentes"
   ]
  },
  {
   "cell_type": "code",
   "execution_count": 13,
   "id": "4bb8d85b",
   "metadata": {},
   "outputs": [
    {
     "name": "stdout",
     "output_type": "stream",
     "text": [
      "============= Minha linda interface de dar oi =========\n",
      "Olá Letícia, como você está?\n",
      "=========================================================\n",
      "============= Minha linda interface de dar oi =========\n",
      "Hello Letícia, how are you?\n",
      "=========================================================\n",
      "============= Minha linda interface de dar oi =========\n",
      "Hola Letícia, ¿como estás?\n",
      "=========================================================\n",
      "============= Minha linda interface de dar oi =========\n",
      "O-oi Letícia, t- tudo bem?\n",
      "=========================================================\n"
     ]
    }
   ],
   "source": [
    "def da_oi_para(funcao_de_dar_oi, str_pessoa):\n",
    "    #independente do nome da função externa, invocamos ela como funcao_de_dar_oi\n",
    "    str_oi = funcao_de_dar_oi(str_pessoa)\n",
    "    \n",
    "    print(\"============= Minha linda interface de dar oi =========\")\n",
    "    print(str_oi)\n",
    "    print(\"=========================================================\")\n",
    "\n",
    "\n",
    "def oi_portugues(str_pessoa):\n",
    "    return f\"Olá {str_pessoa}, como você está?\"\n",
    "\n",
    "oi_ingles = lambda str_pessoa: f\"Hello {str_pessoa}, how are you?\"\n",
    "\n",
    "oi_espanhol = lambda str_pessoa: f\"Hola {str_pessoa}, ¿como estás?\"\n",
    "\n",
    "oi_timido = lambda str_pessoa: f\"O-oi {str_pessoa}, t- tudo bem?\"\n",
    "\n",
    "da_oi_para(oi_portugues, \"Letícia\")\n",
    "da_oi_para(oi_ingles, \"Letícia\")\n",
    "da_oi_para(oi_espanhol, \"Letícia\")\n",
    "da_oi_para(oi_timido, \"Letícia\")"
   ]
  },
  {
   "cell_type": "markdown",
   "id": "feba200b",
   "metadata": {},
   "source": [
    "### Exercício 5: Funções como parâmetro 2\n",
    "Você irá implementar a função executa_operacao_vetor que recebe como parâmetro uma operação (função) e dois vetores, vetor1 e vetor2, de mesmo tamanho, e executa uma operação entre os elementos da mesma posição deste vetor. Esta operação é uma função que será chamada para cada posição deste vetor (ex: operacao(vetor1[i], vetor2[i])) e retornará o resultado desta operação. Caso os dois vetores sejam de tamanho diferentes, deve-se exibir uma mensagem de erro e não realizar a operação.\n",
    "\n",
    "Você deverá implementar a função executa_operacao_vetor e três operações distintas (por exemplo, soma(a, b), multiplica(a, b) e subtrai(a, b)), cada uma, criando uma função de forma uma diferente"
   ]
  },
  {
   "cell_type": "code",
   "execution_count": 15,
   "id": "437989d7",
   "metadata": {},
   "outputs": [
    {
     "name": "stdout",
     "output_type": "stream",
     "text": [
      "[3, 4, 6]\n",
      "[-1, 0, 0]\n",
      "[2, 4, 9]\n"
     ]
    }
   ],
   "source": [
    "def executa_operacao_vetor(operacao, vetor1, vetor2):\n",
    "    total = []\n",
    "    if len(vetor1) != len(vetor2):\n",
    "        raise ValueError(\"Erro: vetores de tamanho diferente\")\n",
    "    else:\n",
    "        for i in range(len(vetor1)):\n",
    "            total.append(operacao(vetor1[i], vetor2[i]))\n",
    "        return total\n",
    "\n",
    "def soma(a, b):\n",
    "    return a + b\n",
    "\n",
    "def subtrai(a, b):\n",
    "    return a - b\n",
    "\n",
    "def multiplica(a, b):\n",
    "    return a * b\n",
    "\n",
    "print(executa_operacao_vetor(soma, [1,2,3], [2, 2, 3]))\n",
    "print(executa_operacao_vetor(subtrai, [1,2,3], [2, 2, 3]))\n",
    "print(executa_operacao_vetor(multiplica, [1,2,3], [2, 2, 3]))"
   ]
  }
 ],
 "metadata": {
  "kernelspec": {
   "display_name": "Python 3 (ipykernel)",
   "language": "python",
   "name": "python3"
  },
  "language_info": {
   "codemirror_mode": {
    "name": "ipython",
    "version": 3
   },
   "file_extension": ".py",
   "mimetype": "text/x-python",
   "name": "python",
   "nbconvert_exporter": "python",
   "pygments_lexer": "ipython3",
   "version": "3.10.2"
  }
 },
 "nbformat": 4,
 "nbformat_minor": 5
}
