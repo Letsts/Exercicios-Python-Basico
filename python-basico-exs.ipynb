{
 "cells": [
  {
   "cell_type": "markdown",
   "id": "b1b644b7",
   "metadata": {},
   "source": [
    "# Exercícios Python Básico - Letícia Schmidt"
   ]
  },
  {
   "cell_type": "markdown",
   "id": "74fc5570",
   "metadata": {},
   "source": [
    "##Função que retorna o maior valor entre a e b"
   ]
  },
  {
   "cell_type": "code",
   "execution_count": 1,
   "id": "8e076c29",
   "metadata": {},
   "outputs": [
    {
     "name": "stdout",
     "output_type": "stream",
     "text": [
      "Primeiro Numero: 3200\n",
      "Segundo Numero: 87\n",
      "Maior Numero: 3200\n"
     ]
    }
   ],
   "source": [
    "def maior(a,b):\n",
    "    if a > b:\n",
    "        return a\n",
    "    else:\n",
    "        return b\n",
    "\n",
    "numero1 = int(input('Primeiro Numero: '))\n",
    "numero2 = int(input('Segundo Numero: '))\n",
    "\n",
    "print(\"Maior Numero:\", maior(numero1,numero2))"
   ]
  },
  {
   "cell_type": "code",
   "execution_count": null,
   "id": "99ec4f6c",
   "metadata": {},
   "outputs": [],
   "source": []
  }
 ],
 "metadata": {
  "kernelspec": {
   "display_name": "Python 3 (ipykernel)",
   "language": "python",
   "name": "python3"
  },
  "language_info": {
   "codemirror_mode": {
    "name": "ipython",
    "version": 3
   },
   "file_extension": ".py",
   "mimetype": "text/x-python",
   "name": "python",
   "nbconvert_exporter": "python",
   "pygments_lexer": "ipython3",
   "version": "3.10.2"
  }
 },
 "nbformat": 4,
 "nbformat_minor": 5
}
